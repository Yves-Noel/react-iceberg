{
 "metadata": {
  "language_info": {
   "codemirror_mode": {
    "name": "ipython",
    "version": 3
   },
   "file_extension": ".py",
   "mimetype": "text/x-python",
   "name": "python",
   "nbconvert_exporter": "python",
   "pygments_lexer": "ipython3",
   "version": "3.9.4"
  },
  "orig_nbformat": 2,
  "kernelspec": {
   "name": "python394jvsc74a57bd098b0a9b7b4eaaa670588a142fd0a9b87eaafe866f1db4228be72b4211d12040f",
   "display_name": "Python 3.9.4 64-bit ('conda': virtualenv)"
  }
 },
 "nbformat": 4,
 "nbformat_minor": 2,
 "cells": [
  {
   "cell_type": "code",
   "execution_count": 1,
   "metadata": {},
   "outputs": [
    {
     "output_type": "stream",
     "name": "stdout",
     "text": [
      "Collecting pyspark==3.0.2\n",
      "  Downloading pyspark-3.0.2.tar.gz (204.8 MB)\n",
      "\u001b[K     |████████████████████████████████| 204.8 MB 147 kB/s \n",
      "\u001b[?25hCollecting py4j==0.10.9\n",
      "  Downloading py4j-0.10.9-py2.py3-none-any.whl (198 kB)\n",
      "\u001b[K     |████████████████████████████████| 198 kB 12.3 MB/s \n",
      "\u001b[?25hBuilding wheels for collected packages: pyspark\n",
      "  Building wheel for pyspark (setup.py) ... \u001b[?25ldone\n",
      "\u001b[?25h  Created wheel for pyspark: filename=pyspark-3.0.2-py2.py3-none-any.whl size=205186687 sha256=676732414fbb64be4e73e7d302561a82c3584fbc6ffb5fab4716cb49908737fd\n",
      "  Stored in directory: /home/jovyan/.cache/pip/wheels/aa/8e/b9/ed8017fb2997a648f5868a4b728881f320e3d1bd2b0274f137\n",
      "Successfully built pyspark\n",
      "Installing collected packages: py4j, pyspark\n",
      "Successfully installed py4j-0.10.9 pyspark-3.0.2\n"
     ]
    }
   ],
   "source": [
    "#!pip3 uninstall --no-input --yes pyspark\n",
    "!pip3 install pyspark==3.0.2"
   ]
  },
  {
   "source": [
    "import requests\n",
    "import pyspark\n",
    "from pyspark.sql import SparkSession\n",
    "\n",
    "spark = SparkSession.builder.master(\"local\") \\\n",
    "    .appName(\"react-iceberg\") \\\n",
    "    .config(\"spark.sql.extensions\",\"org.apache.iceberg.spark.extensions.IcebergSparkSessionExtensions\") \\\n",
    "    .config(\"spark.sql.catalog.spark_catalog\",\"org.apache.iceberg.spark.SparkSessionCatalog\") \\\n",
    "    .config(\"spark.sql.catalog.spark_catalog.type\",\"hive\") \\\n",
    "    .config(\"spark.sql.catalog.local\",\"org.apache.iceberg.spark.SparkCatalog\") \\\n",
    "    .config(\"spark.sql.catalog.local.type\",\"hadoop\") \\\n",
    "    .config(\"spark.sql.catalog.local.warehouse\",\"/workspaces/react-iceberg/warehouse\") \\\n",
    "    .getOrCreate()\n",
    "\n",
    "df = spark.sql(\"select 'spark' as hello \")\n",
    "\n",
    "df.show()"
   ],
   "cell_type": "code",
   "metadata": {},
   "execution_count": 2,
   "outputs": [
    {
     "output_type": "stream",
     "name": "stdout",
     "text": [
      "+-----+\n|hello|\n+-----+\n|spark|\n+-----+\n\n"
     ]
    }
   ]
  },
  {
   "cell_type": "code",
   "execution_count": 3,
   "metadata": {},
   "outputs": [
    {
     "output_type": "execute_result",
     "data": {
      "text/plain": [
       "'/workspaces/react-iceberg/proxylogon_ssrf_rce_poc_2021-03-14T01401970.json'"
      ]
     },
     "metadata": {},
     "execution_count": 3
    }
   ],
   "source": [
    "import requests\n",
    "from io import BytesIO\n",
    "from zipfile import ZipFile\n",
    "\n",
    "spark.conf.set(\"spark.sql.caseSensitive\", \"true\")\n",
    "url = 'https://raw.githubusercontent.com/OTRF/mordor/master/datasets/small/windows/persistence/host/proxylogon_ssrf_rce_poc.zip'\n",
    "zipFileRequest = requests.get(url)\n",
    "zipFile = ZipFile(BytesIO(zipFileRequest.content))\n",
    "jsonFilePath = zipFile.extract(zipFile.namelist()[0])\n",
    "jsonFilePath"
   ]
  },
  {
   "cell_type": "code",
   "execution_count": 4,
   "metadata": {},
   "outputs": [
    {
     "output_type": "stream",
     "name": "stdout",
     "text": [
      "+----------------------+---------------------------------------------------+-------+-----+\n|Hostname              |Channel                                            |EventID|count|\n+----------------------+---------------------------------------------------+-------+-----+\n|MXS01.azsentinel.local|Microsoft-Windows-Sysmon/Operational               |10     |3626 |\n|MXS01.azsentinel.local|Security                                           |4658   |2398 |\n|MXS01.azsentinel.local|Security                                           |4656   |1199 |\n|MXS01.azsentinel.local|Security                                           |4690   |1199 |\n|MXS01.azsentinel.local|Microsoft-Windows-Sysmon/Operational               |7      |427  |\n|MXS01.azsentinel.local|Microsoft-Windows-Sysmon/Operational               |11     |301  |\n|MXS01.azsentinel.local|Microsoft-Exchange-ActiveMonitoring/MonitorResult  |3      |293  |\n|MXS01.azsentinel.local|Microsoft-Exchange-ActiveMonitoring/ResponderResult|4      |167  |\n|MXS01.azsentinel.local|Security                                           |5156   |132  |\n|MXS01.azsentinel.local|Microsoft-Windows-Sysmon/Operational               |12     |120  |\n|MXS01.azsentinel.local|Microsoft-Windows-Sysmon/Operational               |3      |117  |\n|MXS01.azsentinel.local|Security                                           |5158   |85   |\n|MXS01.azsentinel.local|Security                                           |4703   |72   |\n|MXS01.azsentinel.local|Microsoft-Exchange-ActiveMonitoring/ProbeResult    |2      |57   |\n|MXS01.azsentinel.local|Microsoft-Windows-Sysmon/Operational               |13     |37   |\n|MXS01.azsentinel.local|Security                                           |4627   |21   |\n|MXS01.azsentinel.local|Security                                           |4624   |21   |\n|MXS01.azsentinel.local|Security                                           |4985   |18   |\n|MXS01.azsentinel.local|Application                                        |2303   |17   |\n|MXS01.azsentinel.local|Security                                           |4672   |16   |\n+----------------------+---------------------------------------------------+-------+-----+\nonly showing top 20 rows\n\n"
     ]
    },
    {
     "output_type": "execute_result",
     "data": {
      "text/plain": [
       "52"
      ]
     },
     "metadata": {},
     "execution_count": 4
    }
   ],
   "source": [
    "# Creating a Spark Dataframe\n",
    "df2 = spark.read.json(jsonFilePath)\n",
    "# Validating Type of Output\n",
    "df2.createOrReplaceTempView(\"mordorTable\")\n",
    "\n",
    "spark.sql(\n",
    "'''\n",
    "SELECT Hostname,Channel,EventID, Count(*) as count\n",
    "FROM mordorTable\n",
    "GROUP BY Hostname,Channel,EventID\n",
    "ORDER BY count DESC\n",
    "'''\n",
    ").show(truncate=False)"
   ]
  },
  {
   "cell_type": "code",
   "execution_count": 15,
   "metadata": {},
   "outputs": [],
   "source": [
    "df2.write.format(\"iceberg\").saveAsTable(\"local.db.table\")               \n",
    "# THIS IS THE CORRECT SYNTAX FOR Spark 3.1+ (but Iceberg doesn't work with it yet)\n",
    "#     .writeTo(\"local.db.table\").append()"
   ]
  }
 ]
}